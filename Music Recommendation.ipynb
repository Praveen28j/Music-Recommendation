{
 "cells": [
  {
   "cell_type": "code",
   "execution_count": 13,
   "id": "a542caf6",
   "metadata": {},
   "outputs": [
    {
     "name": "stdout",
     "output_type": "stream",
     "text": [
      "Collecting lyricsgenius\n",
      "  Downloading lyricsgenius-3.0.1-py3-none-any.whl (59 kB)\n",
      "     ---------------------------------------- 59.4/59.4 kB 3.3 MB/s eta 0:00:00\n",
      "Requirement already satisfied: beautifulsoup4>=4.6.0 in c:\\users\\nprav\\anaconda3\\lib\\site-packages (from lyricsgenius) (4.11.1)\n",
      "Requirement already satisfied: requests>=2.20.0 in c:\\users\\nprav\\anaconda3\\lib\\site-packages (from lyricsgenius) (2.28.1)\n",
      "Requirement already satisfied: soupsieve>1.2 in c:\\users\\nprav\\anaconda3\\lib\\site-packages (from beautifulsoup4>=4.6.0->lyricsgenius) (2.3.1)\n",
      "Requirement already satisfied: idna<4,>=2.5 in c:\\users\\nprav\\anaconda3\\lib\\site-packages (from requests>=2.20.0->lyricsgenius) (3.3)\n",
      "Requirement already satisfied: charset-normalizer<3,>=2 in c:\\users\\nprav\\anaconda3\\lib\\site-packages (from requests>=2.20.0->lyricsgenius) (2.0.4)\n",
      "Requirement already satisfied: certifi>=2017.4.17 in c:\\users\\nprav\\anaconda3\\lib\\site-packages (from requests>=2.20.0->lyricsgenius) (2022.9.14)\n",
      "Requirement already satisfied: urllib3<1.27,>=1.21.1 in c:\\users\\nprav\\anaconda3\\lib\\site-packages (from requests>=2.20.0->lyricsgenius) (1.26.11)\n",
      "Installing collected packages: lyricsgenius\n",
      "Successfully installed lyricsgenius-3.0.1\n",
      "Note: you may need to restart the kernel to use updated packages.\n"
     ]
    }
   ],
   "source": [
    "pip install lyricsgenius"
   ]
  },
  {
   "cell_type": "code",
   "execution_count": 14,
   "id": "526a1082",
   "metadata": {},
   "outputs": [],
   "source": [
    "from textblob import TextBlob\n",
    "import spotipy\n",
    "from spotipy.oauth2 import SpotifyClientCredentials\n",
    "from sklearn.naive_bayes import MultinomialNB\n",
    "from sklearn.model_selection import train_test_split\n",
    "import lyricsgenius\n",
    "import re"
   ]
  },
  {
   "cell_type": "code",
   "execution_count": 20,
   "id": "03f72f5f",
   "metadata": {},
   "outputs": [
    {
     "data": {
      "text/plain": [
       "<spotipy.client.Spotify at 0x2e3ccedf6a0>"
      ]
     },
     "execution_count": 20,
     "metadata": {},
     "output_type": "execute_result"
    }
   ],
   "source": [
    "client_credentials_manager = SpotifyClientCredentials(client_id='c8ccd1c565bb4056a57b81ea726fd691', client_secret='22c41eabd82f4263bae26f012955b6f6')\n",
    "sp = spotipy.Spotify(client_credentials_manager=client_credentials_manager)\n",
    "genius = lyricsgenius.Genius('cJJDWpZwnLSPHD3Yrp6nKSJAS8Ct6da1NDLQEvyZoz1NAIeABj9fmjgi8COuQI2d')\n",
    "sp"
   ]
  },
  {
   "cell_type": "code",
   "execution_count": 26,
   "id": "cb2c634b",
   "metadata": {},
   "outputs": [
    {
     "name": "stderr",
     "output_type": "stream",
     "text": [
      "HTTP Error for GET to https://api.spotify.com/v1/me/ with Params: {} returned 401 due to Unauthorized.\n"
     ]
    },
    {
     "name": "stdout",
     "output_type": "stream",
     "text": [
      "{'display_name': 'Paul Lamere', 'external_urls': {'spotify': 'https://open.spotify.com/user/plamere'}, 'followers': {'href': None, 'total': 290}, 'href': 'https://api.spotify.com/v1/users/plamere', 'id': 'plamere', 'images': [{'height': None, 'url': 'https://scontent-ams2-1.xx.fbcdn.net/v/t1.18169-1/23755553_10155743258091091_7076319632011926032_n.jpg?stp=dst-jpg_p320x320&_nc_cat=104&ccb=1-7&_nc_sid=0c64ff&_nc_ohc=0QSd9Woc6ZwAX8BC6db&_nc_ht=scontent-ams2-1.xx&edm=AP4hL3IEAAAA&oh=00_AfC3FKkCyX7VjedaIQC84Du6hbzjGCBy4utDzeaZx8X-mQ&oe=644C0903', 'width': None}], 'type': 'user', 'uri': 'spotify:user:plamere'}\n"
     ]
    },
    {
     "ename": "SpotifyException",
     "evalue": "http status: 401, code:-1 - https://api.spotify.com/v1/me/:\n Unauthorized., reason: None",
     "output_type": "error",
     "traceback": [
      "\u001b[1;31m---------------------------------------------------------------------------\u001b[0m",
      "\u001b[1;31mHTTPError\u001b[0m                                 Traceback (most recent call last)",
      "\u001b[1;32m~\\anaconda3\\lib\\site-packages\\spotipy\\client.py\u001b[0m in \u001b[0;36m_internal_call\u001b[1;34m(self, method, url, payload, params)\u001b[0m\n\u001b[0;32m    268\u001b[0m \u001b[1;33m\u001b[0m\u001b[0m\n\u001b[1;32m--> 269\u001b[1;33m             \u001b[0mresponse\u001b[0m\u001b[1;33m.\u001b[0m\u001b[0mraise_for_status\u001b[0m\u001b[1;33m(\u001b[0m\u001b[1;33m)\u001b[0m\u001b[1;33m\u001b[0m\u001b[1;33m\u001b[0m\u001b[0m\n\u001b[0m\u001b[0;32m    270\u001b[0m             \u001b[0mresults\u001b[0m \u001b[1;33m=\u001b[0m \u001b[0mresponse\u001b[0m\u001b[1;33m.\u001b[0m\u001b[0mjson\u001b[0m\u001b[1;33m(\u001b[0m\u001b[1;33m)\u001b[0m\u001b[1;33m\u001b[0m\u001b[1;33m\u001b[0m\u001b[0m\n",
      "\u001b[1;32m~\\anaconda3\\lib\\site-packages\\requests\\models.py\u001b[0m in \u001b[0;36mraise_for_status\u001b[1;34m(self)\u001b[0m\n\u001b[0;32m   1020\u001b[0m         \u001b[1;32mif\u001b[0m \u001b[0mhttp_error_msg\u001b[0m\u001b[1;33m:\u001b[0m\u001b[1;33m\u001b[0m\u001b[1;33m\u001b[0m\u001b[0m\n\u001b[1;32m-> 1021\u001b[1;33m             \u001b[1;32mraise\u001b[0m \u001b[0mHTTPError\u001b[0m\u001b[1;33m(\u001b[0m\u001b[0mhttp_error_msg\u001b[0m\u001b[1;33m,\u001b[0m \u001b[0mresponse\u001b[0m\u001b[1;33m=\u001b[0m\u001b[0mself\u001b[0m\u001b[1;33m)\u001b[0m\u001b[1;33m\u001b[0m\u001b[1;33m\u001b[0m\u001b[0m\n\u001b[0m\u001b[0;32m   1022\u001b[0m \u001b[1;33m\u001b[0m\u001b[0m\n",
      "\u001b[1;31mHTTPError\u001b[0m: 401 Client Error: Unauthorized for url: https://api.spotify.com/v1/me/",
      "\nDuring handling of the above exception, another exception occurred:\n",
      "\u001b[1;31mSpotifyException\u001b[0m                          Traceback (most recent call last)",
      "\u001b[1;32m~\\AppData\\Local\\Temp\\ipykernel_20268\\1167478236.py\u001b[0m in \u001b[0;36m<module>\u001b[1;34m\u001b[0m\n\u001b[0;32m      2\u001b[0m \u001b[0muser\u001b[0m \u001b[1;33m=\u001b[0m \u001b[0msp\u001b[0m\u001b[1;33m.\u001b[0m\u001b[0muser\u001b[0m\u001b[1;33m(\u001b[0m\u001b[1;34m'plamere'\u001b[0m\u001b[1;33m)\u001b[0m\u001b[1;33m\u001b[0m\u001b[1;33m\u001b[0m\u001b[0m\n\u001b[0;32m      3\u001b[0m \u001b[0mprint\u001b[0m\u001b[1;33m(\u001b[0m\u001b[0muser\u001b[0m\u001b[1;33m)\u001b[0m\u001b[1;33m\u001b[0m\u001b[1;33m\u001b[0m\u001b[0m\n\u001b[1;32m----> 4\u001b[1;33m \u001b[0mprint\u001b[0m\u001b[1;33m(\u001b[0m\u001b[0msp\u001b[0m\u001b[1;33m.\u001b[0m\u001b[0mcurrent_user\u001b[0m\u001b[1;33m(\u001b[0m\u001b[1;33m)\u001b[0m\u001b[1;33m)\u001b[0m\u001b[1;33m\u001b[0m\u001b[1;33m\u001b[0m\u001b[0m\n\u001b[0m\u001b[0;32m      5\u001b[0m \u001b[1;31m#results = sp.current_user_recently_played(limit=5)\u001b[0m\u001b[1;33m\u001b[0m\u001b[1;33m\u001b[0m\u001b[0m\n",
      "\u001b[1;32m~\\anaconda3\\lib\\site-packages\\spotipy\\client.py\u001b[0m in \u001b[0;36mcurrent_user\u001b[1;34m(self)\u001b[0m\n\u001b[0;32m   1223\u001b[0m             \u001b[0mAn\u001b[0m \u001b[0malias\u001b[0m \u001b[1;32mfor\u001b[0m \u001b[0mthe\u001b[0m \u001b[1;34m'me'\u001b[0m \u001b[0mmethod\u001b[0m\u001b[1;33m.\u001b[0m\u001b[1;33m\u001b[0m\u001b[1;33m\u001b[0m\u001b[0m\n\u001b[0;32m   1224\u001b[0m         \"\"\"\n\u001b[1;32m-> 1225\u001b[1;33m         \u001b[1;32mreturn\u001b[0m \u001b[0mself\u001b[0m\u001b[1;33m.\u001b[0m\u001b[0mme\u001b[0m\u001b[1;33m(\u001b[0m\u001b[1;33m)\u001b[0m\u001b[1;33m\u001b[0m\u001b[1;33m\u001b[0m\u001b[0m\n\u001b[0m\u001b[0;32m   1226\u001b[0m \u001b[1;33m\u001b[0m\u001b[0m\n\u001b[0;32m   1227\u001b[0m     \u001b[1;32mdef\u001b[0m \u001b[0mcurrent_user_playing_track\u001b[0m\u001b[1;33m(\u001b[0m\u001b[0mself\u001b[0m\u001b[1;33m)\u001b[0m\u001b[1;33m:\u001b[0m\u001b[1;33m\u001b[0m\u001b[1;33m\u001b[0m\u001b[0m\n",
      "\u001b[1;32m~\\anaconda3\\lib\\site-packages\\spotipy\\client.py\u001b[0m in \u001b[0;36mme\u001b[1;34m(self)\u001b[0m\n\u001b[0;32m   1217\u001b[0m             \u001b[0mAn\u001b[0m \u001b[0malias\u001b[0m \u001b[1;32mfor\u001b[0m \u001b[0mthe\u001b[0m \u001b[1;34m'current_user'\u001b[0m \u001b[0mmethod\u001b[0m\u001b[1;33m.\u001b[0m\u001b[1;33m\u001b[0m\u001b[1;33m\u001b[0m\u001b[0m\n\u001b[0;32m   1218\u001b[0m         \"\"\"\n\u001b[1;32m-> 1219\u001b[1;33m         \u001b[1;32mreturn\u001b[0m \u001b[0mself\u001b[0m\u001b[1;33m.\u001b[0m\u001b[0m_get\u001b[0m\u001b[1;33m(\u001b[0m\u001b[1;34m\"me/\"\u001b[0m\u001b[1;33m)\u001b[0m\u001b[1;33m\u001b[0m\u001b[1;33m\u001b[0m\u001b[0m\n\u001b[0m\u001b[0;32m   1220\u001b[0m \u001b[1;33m\u001b[0m\u001b[0m\n\u001b[0;32m   1221\u001b[0m     \u001b[1;32mdef\u001b[0m \u001b[0mcurrent_user\u001b[0m\u001b[1;33m(\u001b[0m\u001b[0mself\u001b[0m\u001b[1;33m)\u001b[0m\u001b[1;33m:\u001b[0m\u001b[1;33m\u001b[0m\u001b[1;33m\u001b[0m\u001b[0m\n",
      "\u001b[1;32m~\\anaconda3\\lib\\site-packages\\spotipy\\client.py\u001b[0m in \u001b[0;36m_get\u001b[1;34m(self, url, args, payload, **kwargs)\u001b[0m\n\u001b[0;32m    319\u001b[0m             \u001b[0mkwargs\u001b[0m\u001b[1;33m.\u001b[0m\u001b[0mupdate\u001b[0m\u001b[1;33m(\u001b[0m\u001b[0margs\u001b[0m\u001b[1;33m)\u001b[0m\u001b[1;33m\u001b[0m\u001b[1;33m\u001b[0m\u001b[0m\n\u001b[0;32m    320\u001b[0m \u001b[1;33m\u001b[0m\u001b[0m\n\u001b[1;32m--> 321\u001b[1;33m         \u001b[1;32mreturn\u001b[0m \u001b[0mself\u001b[0m\u001b[1;33m.\u001b[0m\u001b[0m_internal_call\u001b[0m\u001b[1;33m(\u001b[0m\u001b[1;34m\"GET\"\u001b[0m\u001b[1;33m,\u001b[0m \u001b[0murl\u001b[0m\u001b[1;33m,\u001b[0m \u001b[0mpayload\u001b[0m\u001b[1;33m,\u001b[0m \u001b[0mkwargs\u001b[0m\u001b[1;33m)\u001b[0m\u001b[1;33m\u001b[0m\u001b[1;33m\u001b[0m\u001b[0m\n\u001b[0m\u001b[0;32m    322\u001b[0m \u001b[1;33m\u001b[0m\u001b[0m\n\u001b[0;32m    323\u001b[0m     \u001b[1;32mdef\u001b[0m \u001b[0m_post\u001b[0m\u001b[1;33m(\u001b[0m\u001b[0mself\u001b[0m\u001b[1;33m,\u001b[0m \u001b[0murl\u001b[0m\u001b[1;33m,\u001b[0m \u001b[0margs\u001b[0m\u001b[1;33m=\u001b[0m\u001b[1;32mNone\u001b[0m\u001b[1;33m,\u001b[0m \u001b[0mpayload\u001b[0m\u001b[1;33m=\u001b[0m\u001b[1;32mNone\u001b[0m\u001b[1;33m,\u001b[0m \u001b[1;33m**\u001b[0m\u001b[0mkwargs\u001b[0m\u001b[1;33m)\u001b[0m\u001b[1;33m:\u001b[0m\u001b[1;33m\u001b[0m\u001b[1;33m\u001b[0m\u001b[0m\n",
      "\u001b[1;32m~\\anaconda3\\lib\\site-packages\\spotipy\\client.py\u001b[0m in \u001b[0;36m_internal_call\u001b[1;34m(self, method, url, payload, params)\u001b[0m\n\u001b[0;32m    289\u001b[0m             )\n\u001b[0;32m    290\u001b[0m \u001b[1;33m\u001b[0m\u001b[0m\n\u001b[1;32m--> 291\u001b[1;33m             raise SpotifyException(\n\u001b[0m\u001b[0;32m    292\u001b[0m                 \u001b[0mresponse\u001b[0m\u001b[1;33m.\u001b[0m\u001b[0mstatus_code\u001b[0m\u001b[1;33m,\u001b[0m\u001b[1;33m\u001b[0m\u001b[1;33m\u001b[0m\u001b[0m\n\u001b[0;32m    293\u001b[0m                 \u001b[1;33m-\u001b[0m\u001b[1;36m1\u001b[0m\u001b[1;33m,\u001b[0m\u001b[1;33m\u001b[0m\u001b[1;33m\u001b[0m\u001b[0m\n",
      "\u001b[1;31mSpotifyException\u001b[0m: http status: 401, code:-1 - https://api.spotify.com/v1/me/:\n Unauthorized., reason: None"
     ]
    }
   ],
   "source": [
    "artist = sp.artist('spotify:artist:3jOstUTkEu2JkjvRdBA5Gu')\n",
    "user = sp.user('plamere')\n",
    "print(user)\n",
    "print(sp.current_user())\n",
    "#results = sp.current_user_recently_played(limit=5)"
   ]
  },
  {
   "cell_type": "code",
   "execution_count": null,
   "id": "2bf647df",
   "metadata": {},
   "outputs": [],
   "source": []
  }
 ],
 "metadata": {
  "kernelspec": {
   "display_name": "Python 3 (ipykernel)",
   "language": "python",
   "name": "python3"
  },
  "language_info": {
   "codemirror_mode": {
    "name": "ipython",
    "version": 3
   },
   "file_extension": ".py",
   "mimetype": "text/x-python",
   "name": "python",
   "nbconvert_exporter": "python",
   "pygments_lexer": "ipython3",
   "version": "3.9.13"
  }
 },
 "nbformat": 4,
 "nbformat_minor": 5
}
