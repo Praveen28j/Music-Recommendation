{
 "cells": [
  {
   "cell_type": "code",
   "execution_count": 79,
   "id": "e448aafd",
   "metadata": {},
   "outputs": [],
   "source": [
    "import spotipy\n",
    "from spotipy.oauth2 import SpotifyClientCredentials\n",
    "from spotipy.oauth2 import SpotifyOAuth\n",
    "from textblob import TextBlob\n",
    "import lyricsgenius\n",
    "import pickle\n",
    "from sklearn.ensemble import RandomForestClassifier\n",
    "from sklearn.feature_extraction.text import CountVectorizer"
   ]
  },
  {
   "cell_type": "code",
   "execution_count": 75,
   "id": "14f840ad",
   "metadata": {},
   "outputs": [],
   "source": [
    "client_credentials_manager = SpotifyClientCredentials(client_id='c8ccd1c565bb4056a57b81ea726fd691', client_secret='22c41eabd82f4263bae26f012955b6f6')\n",
    "scope = \"user-read-recently-played\"\n",
    "sp = spotipy.Spotify(auth_manager=SpotifyOAuth(scope=scope, client_id='c8ccd1c565bb4056a57b81ea726fd691', client_secret='22c41eabd82f4263bae26f012955b6f6', redirect_uri='http://localhost/'))\n",
    "\n",
    "#client_credentials_manager = SpotifyClientCredentials(client_id='c8ccd1c565bb4056a57b81ea726fd691', client_secret='22c41eabd82f4263bae26f012955b6f6')\n",
    "#sp = spotipy.Spotify(client_credentials_manager=client_credentials_manager)\n",
    "\n",
    "genius = lyricsgenius.Genius('cJJDWpZwnLSPHD3Yrp6nKSJAS8Ct6da1NDLQEvyZoz1NAIeABj9fmjgi8COuQI2d')\n"
   ]
  },
  {
   "cell_type": "code",
   "execution_count": 76,
   "id": "0339b356",
   "metadata": {},
   "outputs": [],
   "source": [
    "#top_tracks = sp.current_user_top_tracks(limit=50, time_range='medium_term')\n",
    "#user_input = input(\"How are you feeling today? \")\n",
    "\n",
    "#sentiment = TextBlob(user_input).sentiment.polarity\n",
    "#print(sentiment)\n",
    "\n",
    "results = sp.current_user_recently_played(limit=10)"
   ]
  },
  {
   "cell_type": "code",
   "execution_count": 73,
   "id": "f02360df",
   "metadata": {},
   "outputs": [
    {
     "name": "stdout",
     "output_type": "stream",
     "text": [
      "Searching for \"Inside Their Lair\"...\n",
      "Done.\n",
      "Searching for \"Smedjan\"...\n",
      "Done.\n",
      "-0.1051761696781228\n"
     ]
    }
   ],
   "source": [
    "recent_tracks = [item['track']['name'] for item in results['items']]\n",
    "recent_lyrics = []\n",
    "for track in recent_tracks:\n",
    "    song = genius.search_song(track)\n",
    "    if song is not None:\n",
    "        recent_lyrics.append(song.lyrics)\n",
    "recent_lyrics_string = ' '.join(recent_lyrics)\n",
    "#recent_tracks_string = ' '.join(recent_tracks)\n",
    "sentiment = TextBlob(recent_lyrics_string).sentiment.polarity\n",
    "print(sentiment)"
   ]
  },
  {
   "cell_type": "code",
   "execution_count": 95,
   "id": "0fddde07",
   "metadata": {},
   "outputs": [
    {
     "name": "stdout",
     "output_type": "stream",
     "text": [
      "somewhat sad\n"
     ]
    }
   ],
   "source": [
    "if sentiment > 0.6:\n",
    "    emotion = \"very happy\"\n",
    "elif sentiment > 0.3:\n",
    "    emotion = \"happy\"\n",
    "elif sentiment > 0:\n",
    "    emotion = \"somewhat happy\"\n",
    "elif sentiment < -0.6:\n",
    "    emotion = \"very sad\"\n",
    "elif sentiment < -0.3:\n",
    "    emotion = \"sad\"\n",
    "elif sentiment < 0:\n",
    "    emotion = \"somewhat sad\"\n",
    "else:\n",
    "    emotion = \"neutral\"\n",
    "print (emotion)"
   ]
  },
  {
   "cell_type": "code",
   "execution_count": 51,
   "id": "f4d4290a",
   "metadata": {},
   "outputs": [
    {
     "name": "stdout",
     "output_type": "stream",
     "text": [
      "Based on your recent emotions, we recommend: Miss You by Oliver Tree\n"
     ]
    }
   ],
   "source": [
    "if emotion == \"very happy\":\n",
    "    recommended_track = sp.search(q='genre:\"happy\"', type='track')['tracks']['items'][0]\n",
    "elif emotion == \"happy\":\n",
    "    recommended_track = sp.search(q='genre:\"pop\"', type='track')['tracks']['items'][0]\n",
    "elif emotion == \"somewhat happy\":\n",
    "    recommended_track = sp.search(q='genre:\"dance\" ', type='track')['tracks']['items'][0]\n",
    "elif emotion == \"very sad\":\n",
    "    recommended_track = sp.search(q='genre:\"sad\" ', type='track')['tracks']['items'][0]\n",
    "elif emotion == \"sad\":\n",
    "    recommended_track = sp.search(q='genre:\"acoustic\"', type='track')['tracks']['items'][0]\n",
    "elif emotion == \"somewhat sad\":\n",
    "    recommended_track = sp.search(q='genre:\"alternative\" ', type='track')['tracks']['items'][0]\n",
    "else:\n",
    "    recommended_track = sp.search(q='genre:\"pop\"', type='track')['tracks']['items'][0]\n",
    "\n",
    "# print the recommended track information\n",
    "print(f\"Based on your recent emotions, we recommend: {recommended_track['name']} by {recommended_track['artists'][0]['name']}\")"
   ]
  },
  {
   "cell_type": "markdown",
   "id": "f0890455",
   "metadata": {},
   "source": [
    "From here it is just training. Do it if required. Refer to the note pad file i sent for complete code"
   ]
  },
  {
   "cell_type": "code",
   "execution_count": 86,
   "id": "b81c6af3",
   "metadata": {},
   "outputs": [
    {
     "name": "stdout",
     "output_type": "stream",
     "text": [
      "Searching for \"DLMD\" by Darren Styles...\n",
      "Done.\n",
      "Searching for \"You Are Mine\" by S3RL...\n",
      "Done.\n",
      "Searching for \"FCK 2020\" by Scooter...\n",
      "Done.\n",
      "Searching for \"Paul Is Dead\" by Scooter...\n",
      "Done.\n",
      "Searching for \"DYSYLM\" by Gammer...\n",
      "Done.\n"
     ]
    }
   ],
   "source": [
    "data = []\n",
    "target = []\n",
    "\n",
    "# get tracks with happy emotion\n",
    "happy_tracks = sp.search(q='genre:\"happy\" year:2020', type='track', limit=5)['tracks']['items']\n",
    "for track in happy_tracks:\n",
    "    song = genius.search_song(track['name'], track['artists'][0]['name'])\n",
    "    if song is not None:\n",
    "        data.append(song.lyrics)\n",
    "        target.append(\"happy\")"
   ]
  },
  {
   "cell_type": "code",
   "execution_count": 89,
   "id": "93b778ac",
   "metadata": {},
   "outputs": [
    {
     "name": "stdout",
     "output_type": "stream",
     "text": [
      "Searching for \"Flowers\" by Miley Cyrus...\n",
      "Done.\n",
      "Searching for \"Sure Thing\" by Miguel...\n",
      "Done.\n",
      "Searching for \"Miracle (with Ellie Goulding)\" by Calvin Harris...\n",
      "Done.\n",
      "Searching for \"Anti-Hero\" by Taylor Swift...\n",
      "Done.\n",
      "Searching for \"ceilings\" by Lizzy McAlpine...\n",
      "Done.\n"
     ]
    }
   ],
   "source": [
    "pop_tracks = sp.search(q='genre:\"pop\"', type='track' , limit=5)['tracks']['items']\n",
    "for track in pop_tracks:\n",
    "    song = genius.search_song(track['name'], track['artists'][0]['name'])\n",
    "    if song is not None:\n",
    "        data.append(song.lyrics)\n",
    "        target.append(\"pop\")"
   ]
  },
  {
   "cell_type": "code",
   "execution_count": 90,
   "id": "e38f9da2",
   "metadata": {},
   "outputs": [
    {
     "name": "stdout",
     "output_type": "stream",
     "text": [
      "Searching for \"Escapism.\" by RAYE...\n",
      "Done.\n",
      "Searching for \"Sure Thing\" by Miguel...\n",
      "Done.\n",
      "Searching for \"I'm Good (Blue)\" by David Guetta...\n",
      "Done.\n",
      "Searching for \"Miracle (with Ellie Goulding)\" by Calvin Harris...\n",
      "Done.\n",
      "Searching for \"10:35\" by Tiësto...\n",
      "Done.\n"
     ]
    }
   ],
   "source": [
    "dance_tracks = sp.search(q='genre:\"dance\"', type='track' , limit=5)['tracks']['items']\n",
    "for track in dance_tracks:\n",
    "    song = genius.search_song(track['name'], track['artists'][0]['name'])\n",
    "    if song is not None:\n",
    "        data.append(song.lyrics)\n",
    "        target.append(\"dance\")"
   ]
  },
  {
   "cell_type": "code",
   "execution_count": 91,
   "id": "8263b5b3",
   "metadata": {},
   "outputs": [
    {
     "name": "stdout",
     "output_type": "stream",
     "text": [
      "Searching for \"death bed (coffee for your head)\" by Powfu...\n",
      "Done.\n",
      "Searching for \"Stay With Me\" by 1nonly...\n",
      "Done.\n",
      "Searching for \"Jugaste y Sufrí\" by Eslabon Armado...\n",
      "Done.\n",
      "Searching for \"MARCELINE\" by Lil God Dan...\n",
      "Done.\n",
      "Searching for \"By the Sword\" by iamjakehill...\n",
      "Done.\n"
     ]
    }
   ],
   "source": [
    "sad_tracks = sp.search(q='genre:\"sad\"', type='track', limit=5)['tracks']['items']\n",
    "for track in sad_tracks:\n",
    "    song = genius.search_song(track['name'], track['artists'][0]['name'])\n",
    "    if song is not None:\n",
    "        data.append(song.lyrics)\n",
    "        target.append(\"sad\")"
   ]
  },
  {
   "cell_type": "code",
   "execution_count": 93,
   "id": "bdfd8107",
   "metadata": {},
   "outputs": [
    {
     "data": {
      "text/plain": [
       "RandomForestClassifier(random_state=42)"
      ]
     },
     "execution_count": 93,
     "metadata": {},
     "output_type": "execute_result"
    }
   ],
   "source": [
    "vectorizer = CountVectorizer()\n",
    "X = vectorizer.fit_transform(data)\n",
    "y = target\n",
    "clf = RandomForestClassifier(n_estimators=100, random_state=42)\n",
    "clf.fit(X, y)"
   ]
  },
  {
   "cell_type": "code",
   "execution_count": 99,
   "id": "d8d774b0",
   "metadata": {},
   "outputs": [
    {
     "name": "stdout",
     "output_type": "stream",
     "text": [
      "Searching for \"I Follow Rivers (Deep Sea Baby)\" by Darren Styles...\n",
      "Done.\n",
      "Recommended song: I Follow Rivers (Deep Sea Baby) by Darren Styles (genre: dance)\n"
     ]
    }
   ],
   "source": [
    "if emotion == \"somewhat sad\":\n",
    "    happy_songs = sp.search(q='genre:\"happy\" year:2022', type='track', limit=1)['tracks']['items']\n",
    "    happy_lyrics = []\n",
    "    for song in happy_songs:\n",
    "        try:\n",
    "            lyrics = genius.search_song(song['name'], song['artists'][0]['name']).lyrics\n",
    "            happy_lyrics.append(lyrics)\n",
    "        except lyricsgenius.exceptions.GeniusError:\n",
    "            print(f\"Error: Failed to get lyrics for {song['name']}\")\n",
    "    happy_lyrics_string = ' '.join(happy_lyrics)\n",
    "    happy_vector = vectorizer.transform([happy_lyrics_string])\n",
    "    happy_prediction = clf.predict(happy_vector)[0]\n",
    "    print(f\"Recommended song: {happy_songs[0]['name']} by {happy_songs[0]['artists'][0]['name']} (genre: {happy_prediction})\")\n"
   ]
  },
  {
   "cell_type": "code",
   "execution_count": null,
   "id": "d86cc84d",
   "metadata": {},
   "outputs": [],
   "source": []
  },
  {
   "cell_type": "code",
   "execution_count": null,
   "id": "d7b3468e",
   "metadata": {},
   "outputs": [],
   "source": []
  },
  {
   "cell_type": "code",
   "execution_count": null,
   "id": "d404d2e5",
   "metadata": {},
   "outputs": [],
   "source": []
  },
  {
   "cell_type": "code",
   "execution_count": null,
   "id": "0a3febd8",
   "metadata": {},
   "outputs": [],
   "source": []
  }
 ],
 "metadata": {
  "kernelspec": {
   "display_name": "Python 3 (ipykernel)",
   "language": "python",
   "name": "python3"
  },
  "language_info": {
   "codemirror_mode": {
    "name": "ipython",
    "version": 3
   },
   "file_extension": ".py",
   "mimetype": "text/x-python",
   "name": "python",
   "nbconvert_exporter": "python",
   "pygments_lexer": "ipython3",
   "version": "3.9.13"
  }
 },
 "nbformat": 4,
 "nbformat_minor": 5
}
