{
 "cells": [
  {
   "cell_type": "code",
   "execution_count": 13,
   "id": "a542caf6",
   "metadata": {},
   "outputs": [
    {
     "name": "stdout",
     "output_type": "stream",
     "text": [
      "Collecting lyricsgenius\n",
      "  Downloading lyricsgenius-3.0.1-py3-none-any.whl (59 kB)\n",
      "     ---------------------------------------- 59.4/59.4 kB 3.3 MB/s eta 0:00:00\n",
      "Requirement already satisfied: beautifulsoup4>=4.6.0 in c:\\users\\nprav\\anaconda3\\lib\\site-packages (from lyricsgenius) (4.11.1)\n",
      "Requirement already satisfied: requests>=2.20.0 in c:\\users\\nprav\\anaconda3\\lib\\site-packages (from lyricsgenius) (2.28.1)\n",
      "Requirement already satisfied: soupsieve>1.2 in c:\\users\\nprav\\anaconda3\\lib\\site-packages (from beautifulsoup4>=4.6.0->lyricsgenius) (2.3.1)\n",
      "Requirement already satisfied: idna<4,>=2.5 in c:\\users\\nprav\\anaconda3\\lib\\site-packages (from requests>=2.20.0->lyricsgenius) (3.3)\n",
      "Requirement already satisfied: charset-normalizer<3,>=2 in c:\\users\\nprav\\anaconda3\\lib\\site-packages (from requests>=2.20.0->lyricsgenius) (2.0.4)\n",
      "Requirement already satisfied: certifi>=2017.4.17 in c:\\users\\nprav\\anaconda3\\lib\\site-packages (from requests>=2.20.0->lyricsgenius) (2022.9.14)\n",
      "Requirement already satisfied: urllib3<1.27,>=1.21.1 in c:\\users\\nprav\\anaconda3\\lib\\site-packages (from requests>=2.20.0->lyricsgenius) (1.26.11)\n",
      "Installing collected packages: lyricsgenius\n",
      "Successfully installed lyricsgenius-3.0.1\n",
      "Note: you may need to restart the kernel to use updated packages.\n"
     ]
    }
   ],
   "source": [
    "pip install lyricsgenius"
   ]
  },
  {
   "cell_type": "code",
   "execution_count": 14,
   "id": "526a1082",
   "metadata": {},
   "outputs": [],
   "source": [
    "from textblob import TextBlob\n",
    "import spotipy\n",
    "from spotipy.oauth2 import SpotifyClientCredentials\n",
    "from sklearn.naive_bayes import MultinomialNB\n",
    "from sklearn.model_selection import train_test_split\n",
    "import lyricsgenius\n",
    "import re"
   ]
  },
  {
   "cell_type": "code",
   "execution_count": 9,
   "id": "03f72f5f",
   "metadata": {},
   "outputs": [],
   "source": [
    "client_credentials_manager = SpotifyClientCredentials(client_id='c8ccd1c565bb4056a57b81ea726fd691', client_secret='22c41eabd82f4263bae26f012955b6f6')\n",
    "sp = spotipy.Spotify(client_credentials_manager=client_credentials_manager)\n",
    "genius = lyricsgenius.Genius('cJJDWpZwnLSPHD3Yrp6nKSJAS8Ct6da1NDLQEvyZoz1NAIeABj9fmjgi8COuQI2d')"
   ]
  },
  {
   "cell_type": "code",
   "execution_count": 11,
   "id": "cb2c634b",
   "metadata": {},
   "outputs": [
    {
     "ename": "KeyError",
     "evalue": "'lyrics'",
     "output_type": "error",
     "traceback": [
      "\u001b[1;31m---------------------------------------------------------------------------\u001b[0m",
      "\u001b[1;31mKeyError\u001b[0m                                  Traceback (most recent call last)",
      "\u001b[1;32m~\\AppData\\Local\\Temp\\ipykernel_20268\\2181078996.py\u001b[0m in \u001b[0;36m<module>\u001b[1;34m\u001b[0m\n\u001b[0;32m      3\u001b[0m     \u001b[0mplaylist\u001b[0m \u001b[1;33m=\u001b[0m \u001b[0msp\u001b[0m\u001b[1;33m.\u001b[0m\u001b[0muser_playlist\u001b[0m\u001b[1;33m(\u001b[0m\u001b[1;34m\"praveen28\"\u001b[0m\u001b[1;33m,\u001b[0m \u001b[0mplaylist_id\u001b[0m\u001b[1;33m=\u001b[0m\u001b[1;34m\"62MV6jRvQsVuYFjy8l3vCP\"\u001b[0m\u001b[1;33m)\u001b[0m\u001b[1;33m\u001b[0m\u001b[1;33m\u001b[0m\u001b[0m\n\u001b[0;32m      4\u001b[0m     \u001b[1;32mfor\u001b[0m \u001b[0mtrack\u001b[0m \u001b[1;32min\u001b[0m \u001b[0mplaylist\u001b[0m\u001b[1;33m[\u001b[0m\u001b[1;34m\"tracks\"\u001b[0m\u001b[1;33m]\u001b[0m\u001b[1;33m[\u001b[0m\u001b[1;34m\"items\"\u001b[0m\u001b[1;33m]\u001b[0m\u001b[1;33m:\u001b[0m\u001b[1;33m\u001b[0m\u001b[1;33m\u001b[0m\u001b[0m\n\u001b[1;32m----> 5\u001b[1;33m         \u001b[0mlyrics\u001b[0m \u001b[1;33m=\u001b[0m \u001b[0mtrack\u001b[0m\u001b[1;33m[\u001b[0m\u001b[1;34m'lyrics'\u001b[0m\u001b[1;33m]\u001b[0m\u001b[1;33m\u001b[0m\u001b[1;33m\u001b[0m\u001b[0m\n\u001b[0m\u001b[0;32m      6\u001b[0m         \u001b[1;32mif\u001b[0m \u001b[0mlyrics\u001b[0m\u001b[1;33m:\u001b[0m\u001b[1;33m\u001b[0m\u001b[1;33m\u001b[0m\u001b[0m\n\u001b[0;32m      7\u001b[0m             \u001b[0mblob\u001b[0m \u001b[1;33m=\u001b[0m \u001b[0mTextBlob\u001b[0m\u001b[1;33m(\u001b[0m\u001b[0mlyrics\u001b[0m\u001b[1;33m)\u001b[0m\u001b[1;33m\u001b[0m\u001b[1;33m\u001b[0m\u001b[0m\n",
      "\u001b[1;31mKeyError\u001b[0m: 'lyrics'"
     ]
    }
   ],
   "source": [
    "data = []\n",
    "for i in range(10):\n",
    "    playlist = sp.user_playlist(\"praveen28\", playlist_id=\"62MV6jRvQsVuYFjy8l3vCP\")\n",
    "    for track in playlist[\"tracks\"][\"items\"]:\n",
    "        lyrics = track['lyrics']\n",
    "        if lyrics:\n",
    "            blob = TextBlob(lyrics)\n",
    "            sentiment = blob.sentiment.polarity\n",
    "            data.append((lyrics, sentiment))"
   ]
  },
  {
   "cell_type": "code",
   "execution_count": null,
   "id": "2bf647df",
   "metadata": {},
   "outputs": [],
   "source": []
  }
 ],
 "metadata": {
  "kernelspec": {
   "display_name": "Python 3 (ipykernel)",
   "language": "python",
   "name": "python3"
  },
  "language_info": {
   "codemirror_mode": {
    "name": "ipython",
    "version": 3
   },
   "file_extension": ".py",
   "mimetype": "text/x-python",
   "name": "python",
   "nbconvert_exporter": "python",
   "pygments_lexer": "ipython3",
   "version": "3.9.13"
  }
 },
 "nbformat": 4,
 "nbformat_minor": 5
}
