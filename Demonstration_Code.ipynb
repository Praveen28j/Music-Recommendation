{
 "cells": [
  {
   "cell_type": "code",
   "execution_count": 1,
   "id": "3f40cc52",
   "metadata": {},
   "outputs": [],
   "source": [
    "#pip install opencv-python"
   ]
  },
  {
   "cell_type": "code",
   "execution_count": 2,
   "id": "c79a5787",
   "metadata": {},
   "outputs": [],
   "source": [
    "import requests\n",
    "import spotipy\n",
    "from spotipy.oauth2 import SpotifyClientCredentials\n",
    "from spotipy.oauth2 import SpotifyOAuth\n",
    "from textblob import TextBlob\n",
    "import lyricsgenius"
   ]
  },
  {
   "cell_type": "code",
   "execution_count": 3,
   "id": "fbaaf628",
   "metadata": {},
   "outputs": [],
   "source": [
    "\n",
    "client_credentials_manager = SpotifyClientCredentials(client_id='INCLUDE_CLIENT_ID', client_secret='INCLUDE_SECRET_ID')\n",
    "scope = \"user-read-recently-played\"\n",
    "sp = spotipy.Spotify(auth_manager=SpotifyOAuth(scope=scope, client_id='INCLUDE_CLIENT_ID', client_secret='INCLUDE_SECRET_ID', redirect_uri='https://open.spotify.com/'))\n",
    "\n",
    "#this is used to get lyrics to perform analysis\n",
    "genius = lyricsgenius.Genius('cJJDWpZwnLSPHD3Yrp6nKSJAS8Ct6da1NDLQEvyZoz1NAIeABj9fmjgi8COuQI2d')\n"
   ]
  },
  {
   "cell_type": "code",
   "execution_count": 23,
   "id": "1411b8f5",
   "metadata": {
    "scrolled": true
   },
   "outputs": [
    {
     "name": "stdout",
     "output_type": "stream",
     "text": [
      "Loaded model from disk\n",
      "1/1 [==============================] - 2s 2s/step\n",
      "Neutral\n"
     ]
    }
   ],
   "source": [
    "import cv2\n",
    "import numpy as np\n",
    "from keras.models import model_from_json\n",
    "\n",
    "\n",
    "emotion_dict = {0: \"Angry\", 1: \"Disgusted\", 2: \"Fearful\", 3: \"Happy\", 4: \"Neutral\", 5: \"Sad\", 6: \"Surprised\"}\n",
    "\n",
    "# load json and create model\n",
    "json_file = open('emotion_detection_model_100epochs.json', 'r')\n",
    "loaded_model_json = json_file.read()\n",
    "json_file.close()\n",
    "emotion_model = model_from_json(loaded_model_json)\n",
    "\n",
    "emotion_model.load_weights(\"emotion_detection_model_100epochs.h5\")\n",
    "print(\"Loaded model from disk\")\n",
    "\n",
    "# start the webcam feed\n",
    "cap = cv2.VideoCapture(0)\n",
    "\n",
    "while True:\n",
    "    ret, frame = cap.read()\n",
    "    frame = cv2.resize(frame, (1280, 720))\n",
    "    if not ret:\n",
    "        break\n",
    "    face_detector = cv2.CascadeClassifier('haarcascade_frontalface_default.xml')\n",
    "    gray_frame = cv2.cvtColor(frame, cv2.COLOR_BGR2GRAY)\n",
    "\n",
    "    num_faces = face_detector.detectMultiScale(gray_frame, scaleFactor=1.3, minNeighbors=5)\n",
    "\n",
    "    for (x, y, w, h) in num_faces:\n",
    "        cv2.rectangle(frame, (x, y-50), (x+w, y+h+10), (0, 255, 0), 4)\n",
    "        roi_gray_frame = gray_frame[y:y + h, x:x + w]\n",
    "        cropped_img = np.expand_dims(np.expand_dims(cv2.resize(roi_gray_frame, (48, 48)), -1), 0)\n",
    "\n",
    "        emotion_prediction = emotion_model.predict(cropped_img)\n",
    "        maxindex = int(np.argmax(emotion_prediction))\n",
    "        cv2.putText(frame, emotion_dict[maxindex], (x+5, y-20), cv2.FONT_HERSHEY_SIMPLEX, 1, (255, 0, 0), 2, cv2.LINE_AA)\n",
    "        emotion=emotion_dict[maxindex]\n",
    "    cv2.imshow('Emotion Detection', frame)\n",
    "    if cv2.waitKey(1) & 0xFF == ord('q'):\n",
    "        break\n",
    "print (emotion)\n",
    "cap.release()\n",
    "cv2.destroyAllWindows()"
   ]
  },
  {
   "cell_type": "code",
   "execution_count": 16,
   "id": "9e6ce5b6",
   "metadata": {},
   "outputs": [
    {
     "name": "stdout",
     "output_type": "stream",
     "text": [
      "Neutral\n"
     ]
    }
   ],
   "source": [
    "print(emotion)\n",
    "if emotion == \"Happy\":\n",
    "    recommended_track = sp.search(q='genre:\"pop\"', type='track')['tracks']['items'][0]\n",
    "elif emotion == \"Sad\":\n",
    "    recommended_track = sp.search(q='genre:\"soul\"', type='track')['tracks']['items'][0]\n",
    "elif emotion == \"Angry\":\n",
    "    recommended_track = sp.search(q='genre:\"metal\"', type='track')['tracks']['items'][0]\n",
    "elif emotion == \"Disgusted\":\n",
    "    recommended_track = sp.search(q='genre:\"alternative\"', type='track')['tracks']['items'][0]\n",
    "elif emotion == \"Neutral\":\n",
    "    sentiment_polarity=perform_sentiment_analysis\n",
    "elif emotion == \"Surprised\":\n",
    "    recommended_track = sp.search(q='genre:\"trending\"', type='track')['tracks']['items'][0]\n",
    "elif emotion == \"Fearful\":\n",
    "    recommended_track = sp.search(q='genre:\"punk\"', type='track')['tracks']['items'][0]"
   ]
  },
  {
   "cell_type": "code",
   "execution_count": 18,
   "id": "2d706ed8",
   "metadata": {},
   "outputs": [
    {
     "name": "stdout",
     "output_type": "stream",
     "text": [
      "Searching for \"STAY (with Justin Bieber)\"...\n",
      "Done.\n",
      "Searching for \"Love Yourself\"...\n",
      "Done.\n",
      "Based on your recent emotions, we recommend: Jumping All over the World by Scooter\n"
     ]
    }
   ],
   "source": [
    "if emotion != \"Neutral\":\n",
    "    print(f\"Based on your recent emotions, we recommend: {recommended_track['name']} by {recommended_track['artists'][0]['name']}\")\n",
    "else:\n",
    "    results = sp.current_user_recently_played(limit=2)\n",
    "    recent_tracks = [item['track']['name'] for item in results['items']]\n",
    "    recent_lyrics = []\n",
    "    for track in recent_tracks:\n",
    "        song = genius.search_song(track)\n",
    "        if song is not None:\n",
    "            recent_lyrics.append(song.lyrics)\n",
    "    recent_lyrics_string = ' '.join(recent_lyrics)\n",
    "    sentiment = TextBlob(recent_lyrics_string).sentiment.polarity\n",
    "    if sentiment > 0:\n",
    "        recommended_track = sp.search(q='genre:\"happy\"', type='track')['tracks']['items'][0]\n",
    "    else:\n",
    "        recommended_track = sp.search(q='genre:\"sad\" ', type='track')['tracks']['items'][0]\n",
    "    print(f\"Based on your recent emotions, we recommend: {recommended_track['name']} by {recommended_track['artists'][0]['name']}\")"
   ]
  },
  {
   "cell_type": "code",
   "execution_count": null,
   "id": "d5ab1cc7",
   "metadata": {},
   "outputs": [],
   "source": []
  }
 ],
 "metadata": {
  "kernelspec": {
   "display_name": "Python 3 (ipykernel)",
   "language": "python",
   "name": "python3"
  },
  "language_info": {
   "codemirror_mode": {
    "name": "ipython",
    "version": 3
   },
   "file_extension": ".py",
   "mimetype": "text/x-python",
   "name": "python",
   "nbconvert_exporter": "python",
   "pygments_lexer": "ipython3",
   "version": "3.9.13"
  }
 },
 "nbformat": 4,
 "nbformat_minor": 5
}
