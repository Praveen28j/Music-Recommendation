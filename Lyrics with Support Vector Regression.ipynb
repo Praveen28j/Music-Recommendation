{
 "cells": [
  {
   "cell_type": "code",
   "execution_count": 1,
   "id": "920163bf",
   "metadata": {},
   "outputs": [],
   "source": [
    "import pandas as pd\n",
    "import numpy as np\n",
    "from sklearn.feature_extraction.text import TfidfVectorizer\n",
    "from sklearn.model_selection import train_test_split\n",
    "from sklearn.linear_model import LinearRegression\n",
    "from sklearn.metrics import mean_squared_error, r2_score\n",
    "import matplotlib.pyplot as plt\n",
    "from sklearn.svm import SVR\n"
   ]
  },
  {
   "cell_type": "code",
   "execution_count": 2,
   "id": "a97b8b68",
   "metadata": {},
   "outputs": [],
   "source": [
    "df = pd.read_csv('labeled_lyrics_cleaned.csv')"
   ]
  },
  {
   "cell_type": "code",
   "execution_count": 14,
   "id": "fa89d2f3",
   "metadata": {},
   "outputs": [
    {
     "data": {
      "text/html": [
       "<div>\n",
       "<style scoped>\n",
       "    .dataframe tbody tr th:only-of-type {\n",
       "        vertical-align: middle;\n",
       "    }\n",
       "\n",
       "    .dataframe tbody tr th {\n",
       "        vertical-align: top;\n",
       "    }\n",
       "\n",
       "    .dataframe thead th {\n",
       "        text-align: right;\n",
       "    }\n",
       "</style>\n",
       "<table border=\"1\" class=\"dataframe\">\n",
       "  <thead>\n",
       "    <tr style=\"text-align: right;\">\n",
       "      <th></th>\n",
       "      <th>Unnamed: 0</th>\n",
       "      <th>artist</th>\n",
       "      <th>seq</th>\n",
       "      <th>song</th>\n",
       "      <th>label</th>\n",
       "    </tr>\n",
       "  </thead>\n",
       "  <tbody>\n",
       "    <tr>\n",
       "      <th>0</th>\n",
       "      <td>0</td>\n",
       "      <td>Elijah Blake</td>\n",
       "      <td>No, no\\r\\nI ain't ever trapped out the bando\\r...</td>\n",
       "      <td>Everyday</td>\n",
       "      <td>0.626</td>\n",
       "    </tr>\n",
       "    <tr>\n",
       "      <th>1</th>\n",
       "      <td>1</td>\n",
       "      <td>Elijah Blake</td>\n",
       "      <td>The drinks go down and smoke goes up, I feel m...</td>\n",
       "      <td>Live Till We Die</td>\n",
       "      <td>0.630</td>\n",
       "    </tr>\n",
       "    <tr>\n",
       "      <th>2</th>\n",
       "      <td>2</td>\n",
       "      <td>Elijah Blake</td>\n",
       "      <td>She don't live on planet Earth no more\\r\\nShe ...</td>\n",
       "      <td>The Otherside</td>\n",
       "      <td>0.240</td>\n",
       "    </tr>\n",
       "    <tr>\n",
       "      <th>3</th>\n",
       "      <td>3</td>\n",
       "      <td>Elijah Blake</td>\n",
       "      <td>Trippin' off that Grigio, mobbin', lights low\\...</td>\n",
       "      <td>Pinot</td>\n",
       "      <td>0.536</td>\n",
       "    </tr>\n",
       "    <tr>\n",
       "      <th>4</th>\n",
       "      <td>4</td>\n",
       "      <td>Elijah Blake</td>\n",
       "      <td>I see a midnight panther, so gallant and so br...</td>\n",
       "      <td>Shadows &amp; Diamonds</td>\n",
       "      <td>0.371</td>\n",
       "    </tr>\n",
       "    <tr>\n",
       "      <th>...</th>\n",
       "      <td>...</td>\n",
       "      <td>...</td>\n",
       "      <td>...</td>\n",
       "      <td>...</td>\n",
       "      <td>...</td>\n",
       "    </tr>\n",
       "    <tr>\n",
       "      <th>158338</th>\n",
       "      <td>158338</td>\n",
       "      <td>Mis-Teeq</td>\n",
       "      <td>Ah-ooohhhh\\r\\nMis-teeq\\r\\n\\r\\nSometimes ya get...</td>\n",
       "      <td>These Days</td>\n",
       "      <td>0.626</td>\n",
       "    </tr>\n",
       "    <tr>\n",
       "      <th>158339</th>\n",
       "      <td>158339</td>\n",
       "      <td>Mis-Teeq</td>\n",
       "      <td>Ha been looking at you for days\\nGot me all we...</td>\n",
       "      <td>Eye Candy</td>\n",
       "      <td>0.806</td>\n",
       "    </tr>\n",
       "    <tr>\n",
       "      <th>158340</th>\n",
       "      <td>158340</td>\n",
       "      <td>Mis-Teeq</td>\n",
       "      <td>Mis-Teeq\\r\\nHey Yo\\r\\nRishi Rich\\r\\nHey Yo\\r\\n...</td>\n",
       "      <td>Hey Yo</td>\n",
       "      <td>0.780</td>\n",
       "    </tr>\n",
       "    <tr>\n",
       "      <th>158341</th>\n",
       "      <td>158341</td>\n",
       "      <td>Mis-Teeq</td>\n",
       "      <td>Verse 1,\\nWhen we met I was a shy kinda girl\\n...</td>\n",
       "      <td>It's Beginning to Feel Like Love</td>\n",
       "      <td>0.894</td>\n",
       "    </tr>\n",
       "    <tr>\n",
       "      <th>158342</th>\n",
       "      <td>158342</td>\n",
       "      <td>Mis-Teeq</td>\n",
       "      <td>Its a brand new song, JD, Mis-Teeq are coming ...</td>\n",
       "      <td>Nitro</td>\n",
       "      <td>0.798</td>\n",
       "    </tr>\n",
       "  </tbody>\n",
       "</table>\n",
       "<p>158343 rows × 5 columns</p>\n",
       "</div>"
      ],
      "text/plain": [
       "        Unnamed: 0        artist  \\\n",
       "0                0  Elijah Blake   \n",
       "1                1  Elijah Blake   \n",
       "2                2  Elijah Blake   \n",
       "3                3  Elijah Blake   \n",
       "4                4  Elijah Blake   \n",
       "...            ...           ...   \n",
       "158338      158338      Mis-Teeq   \n",
       "158339      158339      Mis-Teeq   \n",
       "158340      158340      Mis-Teeq   \n",
       "158341      158341      Mis-Teeq   \n",
       "158342      158342      Mis-Teeq   \n",
       "\n",
       "                                                      seq  \\\n",
       "0       No, no\\r\\nI ain't ever trapped out the bando\\r...   \n",
       "1       The drinks go down and smoke goes up, I feel m...   \n",
       "2       She don't live on planet Earth no more\\r\\nShe ...   \n",
       "3       Trippin' off that Grigio, mobbin', lights low\\...   \n",
       "4       I see a midnight panther, so gallant and so br...   \n",
       "...                                                   ...   \n",
       "158338  Ah-ooohhhh\\r\\nMis-teeq\\r\\n\\r\\nSometimes ya get...   \n",
       "158339  Ha been looking at you for days\\nGot me all we...   \n",
       "158340  Mis-Teeq\\r\\nHey Yo\\r\\nRishi Rich\\r\\nHey Yo\\r\\n...   \n",
       "158341  Verse 1,\\nWhen we met I was a shy kinda girl\\n...   \n",
       "158342  Its a brand new song, JD, Mis-Teeq are coming ...   \n",
       "\n",
       "                                    song  label  \n",
       "0                               Everyday  0.626  \n",
       "1                       Live Till We Die  0.630  \n",
       "2                          The Otherside  0.240  \n",
       "3                                  Pinot  0.536  \n",
       "4                     Shadows & Diamonds  0.371  \n",
       "...                                  ...    ...  \n",
       "158338                        These Days  0.626  \n",
       "158339                         Eye Candy  0.806  \n",
       "158340                            Hey Yo  0.780  \n",
       "158341  It's Beginning to Feel Like Love  0.894  \n",
       "158342                             Nitro  0.798  \n",
       "\n",
       "[158343 rows x 5 columns]"
      ]
     },
     "execution_count": 14,
     "metadata": {},
     "output_type": "execute_result"
    }
   ],
   "source": [
    "df = pd.read_csv('labeled_lyrics_cleaned.csv')\n",
    "df.head(-10)"
   ]
  },
  {
   "cell_type": "code",
   "execution_count": 7,
   "id": "b7892321",
   "metadata": {},
   "outputs": [],
   "source": [
    "# Here 'seq' is lyrics and 'label' is valence\n",
    "X = df['seq']\n",
    "y = df['label']"
   ]
  },
  {
   "cell_type": "code",
   "execution_count": 18,
   "id": "8cd7a35e",
   "metadata": {},
   "outputs": [],
   "source": [
    "#the data is split 80:20 ratio for train and test\n",
    "X_train, X_test, y_train, y_test = train_test_split(X, y, test_size=0.2, random_state=42)\n",
    "\n",
    "# to change the lyrics text to a numerical representation using TfidfVectorizer\n",
    "tfidf = TfidfVectorizer(max_features=10000)\n",
    "X_train_tfidf = tfidf.fit_transform(X_train)\n",
    "X_test_tfidf = tfidf.transform(X_test)\n"
   ]
  },
  {
   "cell_type": "code",
   "execution_count": 9,
   "id": "9c923afd",
   "metadata": {},
   "outputs": [
    {
     "data": {
      "text/plain": [
       "SVR(C=1, kernel='linear')"
      ]
     },
     "execution_count": 9,
     "metadata": {},
     "output_type": "execute_result"
    }
   ],
   "source": [
    "#model is created by fitting the normalised dataset\n",
    "svr = SVR(kernel='linear', C=1, epsilon=0.1)\n",
    "svr.fit(X_train_tfidf, y_train)"
   ]
  },
  {
   "cell_type": "code",
   "execution_count": 10,
   "id": "03f6bcc6",
   "metadata": {},
   "outputs": [],
   "source": [
    "y_pred = svr.predict(X_test_tfidf)\n"
   ]
  },
  {
   "cell_type": "code",
   "execution_count": 30,
   "id": "0d36f066",
   "metadata": {},
   "outputs": [
    {
     "name": "stdout",
     "output_type": "stream",
     "text": [
      "Mean Squared Error: 0.05431750548309846\n",
      "R2 Score: -0.006160202279643867\n"
     ]
    }
   ],
   "source": [
    "#MSE and R2 values are calculated\n",
    "mse = mean_squared_error(y_test, y_pred)\n",
    "r2 = r2_score(y_test, y_pred)\n",
    "print('Mean Squared Error:', mse)\n",
    "print('R2 Score:', r2)"
   ]
  },
  {
   "cell_type": "code",
   "execution_count": 12,
   "id": "6423363f",
   "metadata": {},
   "outputs": [],
   "source": [
    "import pickle\n",
    "with open('svr_model.pkl', 'wb') as f:\n",
    "    pickle.dump(svr, f)"
   ]
  },
  {
   "cell_type": "code",
   "execution_count": null,
   "id": "6783bdbc",
   "metadata": {},
   "outputs": [],
   "source": []
  }
 ],
 "metadata": {
  "kernelspec": {
   "display_name": "Python 3 (ipykernel)",
   "language": "python",
   "name": "python3"
  },
  "language_info": {
   "codemirror_mode": {
    "name": "ipython",
    "version": 3
   },
   "file_extension": ".py",
   "mimetype": "text/x-python",
   "name": "python",
   "nbconvert_exporter": "python",
   "pygments_lexer": "ipython3",
   "version": "3.9.13"
  }
 },
 "nbformat": 4,
 "nbformat_minor": 5
}
